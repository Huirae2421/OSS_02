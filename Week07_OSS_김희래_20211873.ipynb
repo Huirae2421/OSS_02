{
  "nbformat": 4,
  "nbformat_minor": 0,
  "metadata": {
    "colab": {
      "provenance": []
    },
    "kernelspec": {
      "name": "python3",
      "display_name": "Python 3"
    },
    "language_info": {
      "name": "python"
    }
  },
  "cells": [
    {
      "cell_type": "code",
      "execution_count": 2,
      "metadata": {
        "id": "bMEfmUKNAB3F"
      },
      "outputs": [],
      "source": [
        "from abc import ABC, abstractmethod\n",
        "from collections import namedtuple\n",
        "\n",
        "Customer = namedtuple('Customer', 'name fidelity')"
      ]
    },
    {
      "cell_type": "code",
      "source": [
        "park = Customer('Park', 100)\n",
        "park"
      ],
      "metadata": {
        "colab": {
          "base_uri": "https://localhost:8080/"
        },
        "id": "Ei4IMMAMAqY5",
        "outputId": "09ff9984-483a-4dcf-bde3-b14ebfd0d9cd"
      },
      "execution_count": 3,
      "outputs": [
        {
          "output_type": "execute_result",
          "data": {
            "text/plain": [
              "Customer(name='Park', fidelity=100)"
            ]
          },
          "metadata": {},
          "execution_count": 3
        }
      ]
    },
    {
      "cell_type": "code",
      "source": [
        "class LineItem:\n",
        "    \"\"\"구매할 물품/갯수 생성해서 총 가격을 반환\"\"\"\n",
        "    def __init__(self, product, quantity, price):\n",
        "        self.product = product\n",
        "        self.quantity = quantity\n",
        "        self.price = price\n",
        "    def total(self):\n",
        "        return self.price * self.quantity"
      ],
      "metadata": {
        "id": "wIjwsMvIA2jR"
      },
      "execution_count": 36,
      "outputs": []
    },
    {
      "cell_type": "code",
      "source": [
        "class Order:\n",
        "    \"\"\"고객(namedtuple) 및 LineItem 클래스의 인스턴스들을 cart로 받아서 총 계산할 가격을 산출\"\"\"\n",
        "    def __init__(self, customer, cart, promotion=None):\n",
        "        self.customer = customer\n",
        "        self.cart = list(cart)\n",
        "        self.promotion = promotion\n",
        "    def total(self):\n",
        "        \"\"\"__total 속성이 없으면 전체 계산할 값을 계산\"\"\"\n",
        "        if not hasattr(self, '__total'):\n",
        "            self.__total = sum(item.total() for item in self.cart)\n",
        "        return self.__total\n",
        "    def due(self):\n",
        "        \"\"\"할인금액 차감\"\"\"\n",
        "        if self.promotion is None:\n",
        "            discount = 0\n",
        "        else:\n",
        "            discount = self.promotion.discount(self)\n",
        "        return self.total() - discount\n",
        "    def __repr__(self):\n",
        "        fmt = '<Order total: {:.2f} due: {:.2f}>'\n",
        "        return fmt.format(self.total(), self.due())"
      ],
      "metadata": {
        "id": "PqFKRDmgBIfl"
      },
      "execution_count": 34,
      "outputs": []
    },
    {
      "cell_type": "code",
      "source": [
        "class Promotion(ABC):\n",
        "    \"\"\"할인 혜택 클래스들의 형태를 선언\"\"\"\n",
        "    @abstractmethod\n",
        "    def discount(self, order):\n",
        "        \"\"\"할인액을 구체적인 숫자로 반환\"\"\"\n",
        "        pass"
      ],
      "metadata": {
        "id": "T-rFBD1UBycB"
      },
      "execution_count": 39,
      "outputs": []
    },
    {
      "cell_type": "code",
      "source": [
        "class FidelityPromo(Promotion):\n",
        "    \"\"\"충성도 점수가 1000점 이상인 고객에게 전체 5% 할인 적용\"\"\"\n",
        "    def discount(self, order):\n",
        "        return order.total() * 0.05 if order.customer.fidelity >= 1000 else 0\n",
        "class BulkItemPromo(Promotion):\n",
        "    \"\"\"20개 이상의 동일 상품을 구입하면 10% 할인 적용\"\"\"\n",
        "    def discount(self, order):\n",
        "        discount = 0\n",
        "        for item in order.cart:\n",
        "            if item.quantity >= 20:\n",
        "                discount += item.total() * 0.1\n",
        "        return discount\n",
        "class LargeOrderPromo(Promotion):\n",
        "    \"\"\"10종류 이상의 상품을 구입하면 전체 7% 할인 적용\"\"\"\n",
        "    def discount(self, order):\n",
        "        distinct_items = {item.product for item in order.cart}\n",
        "        if len(distinct_items) >= 10:\n",
        "            return order.total() * 0.07\n",
        "        return 0"
      ],
      "metadata": {
        "id": "i7vcuntzCWmV"
      },
      "execution_count": 38,
      "outputs": []
    },
    {
      "cell_type": "code",
      "source": [
        "joe = Customer('John Doe', 0)\n",
        "ann = Customer('Ann Smith', 1100)\n",
        "cart = [LineItem('banana', 4, .5),\n",
        "        LineItem('apple', 10, 1.5),\n",
        "        LineItem('watermellon', 5, 5.0)]\n",
        "Order(joe, cart, FidelityPromo())"
      ],
      "metadata": {
        "colab": {
          "base_uri": "https://localhost:8080/"
        },
        "id": "YXxGzEneC4Rs",
        "outputId": "ad604184-10ec-4717-b500-7e75c6b19337"
      },
      "execution_count": 11,
      "outputs": [
        {
          "output_type": "execute_result",
          "data": {
            "text/plain": [
              "<Order total: 42.00 due: 42.00>"
            ]
          },
          "metadata": {},
          "execution_count": 11
        }
      ]
    },
    {
      "cell_type": "code",
      "source": [
        "Order(ann, cart, FidelityPromo())"
      ],
      "metadata": {
        "colab": {
          "base_uri": "https://localhost:8080/"
        },
        "id": "XndIvlv6D6fB",
        "outputId": "f6661773-1d91-4f4b-e2f0-3ef6a81dffa6"
      },
      "execution_count": 12,
      "outputs": [
        {
          "output_type": "execute_result",
          "data": {
            "text/plain": [
              "<Order total: 42.00 due: 39.90>"
            ]
          },
          "metadata": {},
          "execution_count": 12
        }
      ]
    },
    {
      "cell_type": "code",
      "source": [
        "banana_cart = [LineItem('banana', 30, .5),\n",
        "               LineItem('apple', 10, 1.5)]\n",
        "Order(joe, banana_cart, BulkItemPromo())"
      ],
      "metadata": {
        "colab": {
          "base_uri": "https://localhost:8080/"
        },
        "id": "11yN4y8EEBpH",
        "outputId": "8f827349-abb8-46d4-c01b-2e09486cfc56"
      },
      "execution_count": 13,
      "outputs": [
        {
          "output_type": "execute_result",
          "data": {
            "text/plain": [
              "<Order total: 30.00 due: 28.50>"
            ]
          },
          "metadata": {},
          "execution_count": 13
        }
      ]
    },
    {
      "cell_type": "code",
      "source": [
        "long_order = [LineItem(str(item_code), 1, 1.0)\n",
        "              for item_code in range(10)]\n",
        "Order(joe, long_order, LargeOrderPromo())"
      ],
      "metadata": {
        "colab": {
          "base_uri": "https://localhost:8080/"
        },
        "id": "mBBjVoRgEG9n",
        "outputId": "d31f7bef-6ce1-4c45-b2eb-49cb506ff4dd"
      },
      "execution_count": 14,
      "outputs": [
        {
          "output_type": "execute_result",
          "data": {
            "text/plain": [
              "<Order total: 10.00 due: 9.30>"
            ]
          },
          "metadata": {},
          "execution_count": 14
        }
      ]
    },
    {
      "cell_type": "code",
      "source": [
        "Order(joe, cart, LargeOrderPromo())"
      ],
      "metadata": {
        "colab": {
          "base_uri": "https://localhost:8080/"
        },
        "id": "vxl91gJnEUlT",
        "outputId": "342f2702-2356-4531-c65e-2657a1c1c764"
      },
      "execution_count": 15,
      "outputs": [
        {
          "output_type": "execute_result",
          "data": {
            "text/plain": [
              "<Order total: 42.00 due: 42.00>"
            ]
          },
          "metadata": {},
          "execution_count": 15
        }
      ]
    },
    {
      "cell_type": "code",
      "source": [
        "class Order:\n",
        "    \"\"\"고객(namedtuple) 및 LineItem 클래스의 인스턴스들을 cart로 받아서 총 계산할 가격을 산출\"\"\"\n",
        "    def __init__(self, customer, cart, promotion=None):\n",
        "        self.customer = customer\n",
        "        self.cart = list(cart)\n",
        "        self.promotion = promotion\n",
        "    def total(self):\n",
        "        if not hasattr(self, '__total'):\n",
        "            self.__total = sum(item.total() for item in self.cart)\n",
        "        return self.__total\n",
        "    def due(self):\n",
        "        if self.promotion is None:\n",
        "            discount = 0\n",
        "        else:\n",
        "            discount = self.promotion(self)\n",
        "        return self.total() - discount\n",
        "    def __repr__(self):\n",
        "        fmt = '<Order total: {:.2f} due: {:.2f}>'\n",
        "        return fmt.format(self.total(), self.due())"
      ],
      "metadata": {
        "id": "2TMoohHSEdiz"
      },
      "execution_count": 40,
      "outputs": []
    },
    {
      "cell_type": "code",
      "source": [
        "def fidelity_promo(order):\n",
        "    \"\"\"충성도 점수가 1000점 이상인 고객에게 전체 5% 할인 적용\"\"\"\n",
        "    return order.total() * 0.05 if order.customer.fidelity >= 1000 else 0\n",
        "def bulk_item_promo(order):\n",
        "    \"\"\"20개 이상의 동일 상품을 구입하면 10% 할인 적용\"\"\"\n",
        "    discount = 0\n",
        "    for item in order.cart:\n",
        "        if item.quantity >= 20:\n",
        "            discount += item.total() * 0.1\n",
        "    return discount\n",
        "def large_order_promo(order):\n",
        "    \"\"\"10종류 이상의 상품을 구입하면 전체 7% 할인 적용\"\"\"\n",
        "    distinct_items = {item.product for item in order.cart}\n",
        "    if len(distinct_items) >= 10:\n",
        "        return order.total() * 0.07\n",
        "    return 0"
      ],
      "metadata": {
        "id": "Os9Oy9SpFDNF"
      },
      "execution_count": 41,
      "outputs": []
    },
    {
      "cell_type": "code",
      "source": [
        "Order(joe, cart, fidelity_promo)"
      ],
      "metadata": {
        "colab": {
          "base_uri": "https://localhost:8080/"
        },
        "id": "HoYzRUbWG9pj",
        "outputId": "9f88635b-c955-4c8d-9e49-720be0f9fb51"
      },
      "execution_count": 21,
      "outputs": [
        {
          "output_type": "execute_result",
          "data": {
            "text/plain": [
              "<Order total: 42.00 due: 42.00>"
            ]
          },
          "metadata": {},
          "execution_count": 21
        }
      ]
    },
    {
      "cell_type": "code",
      "source": [
        "Order(ann, cart, fidelity_promo)"
      ],
      "metadata": {
        "colab": {
          "base_uri": "https://localhost:8080/"
        },
        "id": "84kMMKFFG9hv",
        "outputId": "fd0d04e7-6af9-403d-9a31-57582da30196"
      },
      "execution_count": 22,
      "outputs": [
        {
          "output_type": "execute_result",
          "data": {
            "text/plain": [
              "<Order total: 42.00 due: 39.90>"
            ]
          },
          "metadata": {},
          "execution_count": 22
        }
      ]
    },
    {
      "cell_type": "code",
      "source": [
        "Order(joe, banana_cart, bulk_item_promo)"
      ],
      "metadata": {
        "colab": {
          "base_uri": "https://localhost:8080/"
        },
        "id": "mfZR8AZjG9Ys",
        "outputId": "070efa4b-be68-4b39-afac-b8f4fc981bd0"
      },
      "execution_count": 23,
      "outputs": [
        {
          "output_type": "execute_result",
          "data": {
            "text/plain": [
              "<Order total: 30.00 due: 28.50>"
            ]
          },
          "metadata": {},
          "execution_count": 23
        }
      ]
    },
    {
      "cell_type": "code",
      "source": [
        "Order(joe, long_order, large_order_promo)"
      ],
      "metadata": {
        "colab": {
          "base_uri": "https://localhost:8080/"
        },
        "id": "KIkISRbKG6M5",
        "outputId": "dab4fdf4-cfc6-483a-ef91-ae9c607676b7"
      },
      "execution_count": 24,
      "outputs": [
        {
          "output_type": "execute_result",
          "data": {
            "text/plain": [
              "<Order total: 10.00 due: 9.30>"
            ]
          },
          "metadata": {},
          "execution_count": 24
        }
      ]
    },
    {
      "cell_type": "code",
      "source": [
        "promos = [fidelity_promo, bulk_item_promo, large_order_promo]\n",
        "\n",
        "def best_promo(order):\n",
        "    \"\"\"최대로 할인받을 금액을 반환\"\"\"\n",
        "    return max(promo(order) for promo in promos)"
      ],
      "metadata": {
        "id": "pdWOe3CeHNVd"
      },
      "execution_count": 42,
      "outputs": []
    },
    {
      "cell_type": "code",
      "source": [
        "Order(joe, long_order, best_promo)"
      ],
      "metadata": {
        "colab": {
          "base_uri": "https://localhost:8080/"
        },
        "id": "yCQ1H7SoHSVr",
        "outputId": "84900531-36c4-4936-8cd3-8af19a0168e6"
      },
      "execution_count": 26,
      "outputs": [
        {
          "output_type": "execute_result",
          "data": {
            "text/plain": [
              "<Order total: 10.00 due: 9.30>"
            ]
          },
          "metadata": {},
          "execution_count": 26
        }
      ]
    },
    {
      "cell_type": "code",
      "source": [
        "Order(joe, banana_cart, best_promo)"
      ],
      "metadata": {
        "colab": {
          "base_uri": "https://localhost:8080/"
        },
        "id": "PMjnAsNgHUQV",
        "outputId": "16be2911-3cab-4fe6-ba5a-a8776b8fd348"
      },
      "execution_count": 27,
      "outputs": [
        {
          "output_type": "execute_result",
          "data": {
            "text/plain": [
              "<Order total: 30.00 due: 28.50>"
            ]
          },
          "metadata": {},
          "execution_count": 27
        }
      ]
    },
    {
      "cell_type": "code",
      "source": [
        "Order(ann, cart, best_promo)"
      ],
      "metadata": {
        "colab": {
          "base_uri": "https://localhost:8080/"
        },
        "id": "up9DIjoWHWWm",
        "outputId": "11a6ad61-8816-47a3-a756-4616b74df2a7"
      },
      "execution_count": 28,
      "outputs": [
        {
          "output_type": "execute_result",
          "data": {
            "text/plain": [
              "<Order total: 42.00 due: 39.90>"
            ]
          },
          "metadata": {},
          "execution_count": 28
        }
      ]
    },
    {
      "cell_type": "code",
      "source": [
        "globals().keys()"
      ],
      "metadata": {
        "colab": {
          "base_uri": "https://localhost:8080/"
        },
        "id": "PnABIgWZHZ0A",
        "outputId": "fe998258-7933-44ab-c3d4-84c1ef982d59"
      },
      "execution_count": 29,
      "outputs": [
        {
          "output_type": "execute_result",
          "data": {
            "text/plain": [
              "dict_keys(['__name__', '__doc__', '__package__', '__loader__', '__spec__', '__builtin__', '__builtins__', '_ih', '_oh', '_dh', 'In', 'Out', 'get_ipython', 'exit', 'quit', '_', '__', '___', '_i', '_ii', '_iii', '_i1', '_i2', 'ABC', 'abstractmethod', 'namedtuple', 'Customer', '_i3', 'park', '_3', '_i4', 'Order', '_i5', 'Promotion', '_i6', 'FidelityPromo', 'BulkItemPromo', 'LargeOrderPromo', '_i7', 'joe', 'ann', '_i8', 'LineItem', '_i9', 'cart', '_9', '_i10', '_i11', '_11', '_i12', '_12', '_i13', 'banana_cart', '_13', '_i14', 'long_order', '_14', '_i15', '_15', '_i16', '_i17', 'fidelity_promo', 'bulk_item_promo', 'large_order_promo', '_i18', '_i19', '_19', '_i20', '_i21', '_21', '_i22', '_22', '_i23', '_23', '_i24', '_24', '_i25', 'promos', 'best_promo', '_i26', '_26', '_i27', '_27', '_i28', '_28', '_i29'])"
            ]
          },
          "metadata": {},
          "execution_count": 29
        }
      ]
    },
    {
      "cell_type": "code",
      "source": [
        "globals()['best_promo']"
      ],
      "metadata": {
        "colab": {
          "base_uri": "https://localhost:8080/",
          "height": 105
        },
        "id": "3z8KAX5hHct6",
        "outputId": "1303e705-fc66-4474-835f-6844f8b73fcb"
      },
      "execution_count": 43,
      "outputs": [
        {
          "output_type": "execute_result",
          "data": {
            "text/plain": [
              "<function __main__.best_promo(order)>"
            ],
            "text/html": [
              "<div style=\"max-width:800px; border: 1px solid var(--colab-border-color);\"><style>\n",
              "      pre.function-repr-contents {\n",
              "        overflow-x: auto;\n",
              "        padding: 8px 12px;\n",
              "        max-height: 500px;\n",
              "      }\n",
              "\n",
              "      pre.function-repr-contents.function-repr-contents-collapsed {\n",
              "        cursor: pointer;\n",
              "        max-height: 100px;\n",
              "      }\n",
              "    </style>\n",
              "    <pre style=\"white-space: initial; background:\n",
              "         var(--colab-secondary-surface-color); padding: 8px 12px;\n",
              "         border-bottom: 1px solid var(--colab-border-color);\"><b>best_promo</b><br/>def best_promo(order)</pre><pre class=\"function-repr-contents function-repr-contents-collapsed\" style=\"\"><a class=\"filepath\" style=\"display:none\" href=\"#\">/tmp/ipython-input-4062286511.py</a>최대로 할인받을 금액을 반환</pre></div>"
            ]
          },
          "metadata": {},
          "execution_count": 43
        }
      ]
    },
    {
      "cell_type": "code",
      "source": [
        "promos = [globals()[name] for name in globals()\n",
        "         if name.endswith('_promo')\n",
        "         and name != 'best_promo']\n",
        "promos"
      ],
      "metadata": {
        "colab": {
          "base_uri": "https://localhost:8080/"
        },
        "id": "btLajWGkIdwA",
        "outputId": "b422f6f7-b322-4cde-c5ae-435d7ac8171d"
      },
      "execution_count": 44,
      "outputs": [
        {
          "output_type": "execute_result",
          "data": {
            "text/plain": [
              "[<function __main__.fidelity_promo(order)>,\n",
              " <function __main__.bulk_item_promo(order)>,\n",
              " <function __main__.large_order_promo(order)>]"
            ]
          },
          "metadata": {},
          "execution_count": 44
        }
      ]
    }
  ]
}